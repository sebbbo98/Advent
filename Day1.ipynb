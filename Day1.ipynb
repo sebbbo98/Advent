for i in range(1, 10):
  for j in range (1,10):
    print("Dies ist die Nummer %d*%d=%d" %(i,j,i*j))
